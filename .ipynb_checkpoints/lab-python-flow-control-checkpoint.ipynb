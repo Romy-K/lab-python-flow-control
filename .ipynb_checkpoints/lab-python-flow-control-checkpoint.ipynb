{
 "cells": [
  {
   "cell_type": "markdown",
   "id": "d3bfc191-8885-42ee-b0a0-bbab867c6f9f",
   "metadata": {
    "tags": []
   },
   "source": [
    "# Lab | Flow Control"
   ]
  },
  {
   "cell_type": "markdown",
   "id": "3851fcd1-cf98-4653-9c89-e003b7ec9400",
   "metadata": {},
   "source": [
    "## Exercise: Managing Customer Orders Optimized\n",
    "\n",
    "In the last lab, you were starting an online store that sells various products. To ensure smooth operations, you developed a program that manages customer orders and inventory.\n",
    "\n",
    "You did so without using flow control. Let's go a step further and improve this code.\n",
    "\n",
    "Follow the steps below to complete the exercise:\n",
    "\n",
    "1. Look at your code from the lab data structures, and improve repeated code with loops.\n",
    "\n",
    "2. Instead of asking the user to input the name of three products that a customer wants to order, do the following:\n",
    "    \n",
    "    a. Prompt the user to enter the name of a product that a customer wants to order.\n",
    "    \n",
    "    b. Add the product name to the \"customer_orders\" set.\n",
    "    \n",
    "    c. Ask the user if they want to add another product (yes/no).\n",
    "    \n",
    "    d. Continue the loop until the user does not want to add another product.\n",
    "\n",
    "3. Instead of updating the inventory by subtracting 1 from the quantity of each product, only do it for  the products that were ordered (those in \"customer_orders\")."
   ]
  },
  {
   "cell_type": "code",
   "execution_count": null,
   "id": "30b586b4-c4be-426f-b1c0-f41880adf179",
   "metadata": {},
   "outputs": [],
   "source": [
    "#copied from previous lab\n",
    "products = [\"t-shirt\", \"mug\", \"hat\", \"book\", \"keychain\"]\n",
    "inventory = {}\n"
   ]
  },
  {
   "cell_type": "code",
   "execution_count": null,
   "id": "76640f2f-3fae-4634-86a5-2a9fb5134d79",
   "metadata": {},
   "outputs": [],
   "source": [
    "#copied from previous lab\n",
    "total_available_products = 0\n",
    "\n",
    "for product in products:\n",
    "    quantity = int(input(f\"How many {product}s available?\"))\n",
    "    inventory[product] = quantity\n",
    "    total_available_products += quantity "
   ]
  },
  {
   "cell_type": "code",
   "execution_count": null,
   "id": "f0cc02ea-59d3-4470-aed9-b4361a461446",
   "metadata": {},
   "outputs": [],
   "source": [
    "print(inventory) "
   ]
  },
  {
   "cell_type": "code",
   "execution_count": null,
   "id": "6e64c351-2eed-4c15-80ff-f66d008d241f",
   "metadata": {},
   "outputs": [],
   "source": [
    "customer_orders = [] # Changed from a set to a list in order to contain duplicate orders"
   ]
  },
  {
   "cell_type": "code",
   "execution_count": null,
   "id": "a941f35c-6cad-4ba0-88e4-e7b245d1a720",
   "metadata": {},
   "outputs": [],
   "source": [
    "#fresh loop \n",
    "ordering = True\n",
    "\n",
    "while ordering:\n",
    "    order = input(\"Which item would you like to order?\").strip().lower()\n",
    "\n",
    "    if order in products:\n",
    "        customer_orders.append(order)\n",
    "        \n",
    "        while True: # loop-in-loop\n",
    "            next_order = input(\"Would you like to order anything else?\").strip().lower()\n",
    "            if next_order == \"yes\":\n",
    "                break # back to the main loop\n",
    "            elif next_order == \"no\":\n",
    "                ordering = False # outer loop stops\n",
    "                break # from inner and outer loop\n",
    "            else: \n",
    "                print(\"Please enter 'yes' or 'no'.\")\n",
    "    else: \n",
    "        print(\"Sorry, that product is not available. Please choose a different item.\")\n",
    "\n",
    "print(\"Thank you for shopping.\")"
   ]
  },
  {
   "cell_type": "code",
   "execution_count": null,
   "id": "967825a2-12f2-41be-905a-91b365e3b39f",
   "metadata": {},
   "outputs": [],
   "source": [
    "print(\"Customer orders: \", customer_orders)"
   ]
  },
  {
   "cell_type": "code",
   "execution_count": null,
   "id": "5e78ae0b-2216-46d8-bc54-466302680bdb",
   "metadata": {},
   "outputs": [],
   "source": [
    "total_products_ordered = len(customer_orders)\n",
    "print(total_products_ordered)"
   ]
  },
  {
   "cell_type": "code",
   "execution_count": null,
   "id": "7e85a9d2-8557-47d7-9d96-8710f61cafd2",
   "metadata": {},
   "outputs": [],
   "source": [
    "percentage_ordered = (total_products_ordered / total_available_products) * 100\n",
    "print(f\"Percentage of Products Ordered: {percentage_ordered:.2f}%\")"
   ]
  },
  {
   "cell_type": "code",
   "execution_count": null,
   "id": "44ff9c75-2f84-49cc-8775-27eee4fb5dd8",
   "metadata": {},
   "outputs": [],
   "source": [
    "for item in customer_orders:\n",
    "    if inventory[item] > 0: # 1 ordered is 1 down in inventory\n",
    "        inventory[item] -= 1\n",
    "\n",
    "for item, quantity in inventory.items():\n",
    "    print(f\"{item}: {quantity}\")\n",
    "\n",
    "# Didn't change anything here, as the old code works (if I understood point 3. correctly). "
   ]
  },
  {
   "cell_type": "code",
   "execution_count": null,
   "id": "121f42e5-a333-4898-809a-d1e2e833fdac",
   "metadata": {},
   "outputs": [],
   "source": []
  }
 ],
 "metadata": {
  "kernelspec": {
   "display_name": "Python [conda env:base] *",
   "language": "python",
   "name": "conda-base-py"
  },
  "language_info": {
   "codemirror_mode": {
    "name": "ipython",
    "version": 3
   },
   "file_extension": ".py",
   "mimetype": "text/x-python",
   "name": "python",
   "nbconvert_exporter": "python",
   "pygments_lexer": "ipython3",
   "version": "3.12.7"
  }
 },
 "nbformat": 4,
 "nbformat_minor": 5
}
